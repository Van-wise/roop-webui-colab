{
 "cells": [
  {
   "cell_type": "markdown",
   "metadata": {},
   "source": [
    "##Roop unleashed Webui_v1.3.2 极速版\n",
    "\n",
    "---\n",
    "\n",
    "[![Open In Colab](https://colab.research.google.com/assets/colab-badge.svg)](https://colab.research.google.com/github/Van-wise/roop-colab/blob/main/roop_v1_3_ipynb.ipynb)\n",
    "[![Visitors](https://api.visitorbadge.io/api/visitors?path=https%3A%2F%2Fcolab.research.google.com%2Fgithub%2FVan-wise%2Froop-colab%2Fblob%2Fmain%2Froop_v1_3_ipynb.ipynb&labelColor=%232ccce4&countColor=%23555555&style=flat&labelStyle=upper)](https://visitorbadge.io/status?path=https%3A%2F%2Fcolab.research.google.com%2Fgithub%2FVan-wise%2Froop-colab%2Fblob%2Fmain%2Froop_v1_3_ipynb.ipynb)\n",
    "\n",
    "---\n",
    "\n",
    "\n",
    "<font color=\"red\">**项目地址**：https://github.com/Van-wise/roop-colab\n",
    "\n",
    "**如果遇到报错,请联系up：**\n",
    "[bilibili](https://space.bilibili.com/1308057) or [issues](https://github.com/Van-wise/roop-colab/issues)"
   ]
  },
  {
   "cell_type": "code",
   "execution_count": null,
   "metadata": {},
   "outputs": [],
   "source": [
    "#@title 1.克隆项目&下载模型&安装依赖\n",
    "\n",
    "import os\n",
    "import time\n",
    "from IPython.utils import capture\n",
    "from IPython.display import clear_output, display, HTML\n",
    "import warnings\n",
    "os.environ['PYTHONWARNINGS'] = 'ignore'\n",
    "os.environ[\"TF_CPP_MIN_LOG_LEVEL\"] = \"3\"\n",
    "!git config --global advice.detachedHead false\n",
    "!sed -i 's@text = _formatwarnmsg(msg)@text =\\\"\\\"@g' {warnings.__file__}\n",
    "warnings.filterwarnings(\"ignore\")\n",
    "\n",
    "手机端防掉线 = False # @param {\"type\":\"boolean\"}\n",
    "链接谷歌云盘 = True # @param {\"type\":\"boolean\"}\n",
    "\n",
    "os.chdir('/content/')\n",
    "!git clone -q --depth 1 https://github.com/Van-wise/roop-webui-colab roop\n",
    "%run /content/roop/wise.py\n",
    "clear_output()\n",
    "\n",
    "content_models(链接谷歌云盘)\n",
    "mobile_keepalive(手机端防掉线)\n"
   ]
  },
  {
   "cell_type": "code",
   "execution_count": null,
   "metadata": {
    "id": "Is6U2huqSzLE"
   },
   "outputs": [],
   "source": [
    "#@title 2.启动Roop webui\n",
    "# @markdown #### [Ngrok](https://dashboard.ngrok.com/get-started/your-authtoken):\n",
    "ngrok_token = \"\" # @param {type:\"string\"}\n",
    "use_cloudflare = True # @param {type:\"boolean\"}\n",
    "def start_tunnle():\n",
    "  time.sleep(5)\n",
    "  clear_output()\n",
    "\n",
    "  if ngrok_token:\n",
    "      try:\n",
    "          from pyngrok import ngrok\n",
    "          ngrok_tunnel = ngrok.connect(7860, \"http\")\n",
    "          print(\"ngrok_tunnel:\", ngrok_tunnel)\n",
    "      except Exception as e:\n",
    "          print(\"ngrok 连接失败：\", e)\n",
    "\n",
    "  if use_cloudflare:\n",
    "      try:\n",
    "          from pycloudflared import try_cloudflare\n",
    "          cloudflare_url = try_cloudflare(7860, verbose=False)\n",
    "          print(\"cloudflare_tunnel:\", cloudflare_url)\n",
    "      except Exception as e:\n",
    "          print(\"cloudflare 连接失败：\", e)\n",
    "\n",
    "if ngrok_token:\n",
    "  from pyngrok import ngrok\n",
    "  ngrok.set_auth_token(ngrok_token)\n",
    "\n",
    "import threading\n",
    "thread = threading.Thread(target=start_tunnle, daemon=True)\n",
    "thread.start()\n",
    "!python /content/roop/run.py"
   ]
  }
 ],
 "metadata": {
  "accelerator": "GPU",
  "colab": {
   "collapsed_sections": [
    "UdQ1VHdI8lCf"
   ],
   "gpuType": "T4",
   "provenance": []
  },
  "kernelspec": {
   "display_name": "Python 3",
   "name": "python3"
  },
  "language_info": {
   "name": "python"
  }
 },
 "nbformat": 4,
 "nbformat_minor": 0
}
